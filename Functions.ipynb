{
 "cells": [
  {
   "cell_type": "code",
   "execution_count": 10,
   "metadata": {},
   "outputs": [],
   "source": [
    "# Write a function to return True if any number inside the list is True, or else return false\n",
    "def check_for_even(my_list):\n",
    "    for num in my_list:\n",
    "        if(num%2==0):\n",
    "            print(f'{num}--> is even.')\n",
    "        else:\n",
    "            print(f'{num}--> is odd.')"
   ]
  },
  {
   "cell_type": "code",
   "execution_count": 12,
   "metadata": {},
   "outputs": [],
   "source": [
    "#my_l = [1,2,3]\n",
    "check_for_even(list(range(1, 101)))"
   ]
  },
  {
   "cell_type": "markdown",
   "metadata": {},
   "source": [
    "# GUESS THE POSITION 'O' FROM A LIST OF THREE STRINGS"
   ]
  },
  {
   "cell_type": "code",
   "execution_count": 15,
   "metadata": {},
   "outputs": [],
   "source": [
    "# SHUFFLE THE LIST\n",
    "from random import shuffle\n",
    "def shuffle_list(my_list):\n",
    "    shuffle(my_list)\n",
    "    return my_list"
   ]
  },
  {
   "cell_type": "code",
   "execution_count": 16,
   "metadata": {},
   "outputs": [],
   "source": [
    "# TAKE THE GUESS POSITION EITHER 0,1 OR 2 FROM THE USER\n",
    "def user_guess():\n",
    "    guess = 10\n",
    "    \n",
    "    while guess not in [0, 1, 2]:\n",
    "        guess = int(input('Pick a number from 0,1 or 2: '))\n",
    "    return guess"
   ]
  },
  {
   "cell_type": "code",
   "execution_count": 17,
   "metadata": {},
   "outputs": [],
   "source": [
    "# MATCH THE USER GUESS WITH THE SHUFFLED LIST\n",
    "def match_guess(shuffled_list, user_guess):\n",
    "    if(shuffled_list[user_guess]=='O'):\n",
    "        print('Correct!')\n",
    "        print(shuffled_list)\n",
    "    else:\n",
    "        print('Incorrect!')\n",
    "        print(shuffled_list)"
   ]
  },
  {
   "cell_type": "code",
   "execution_count": 26,
   "metadata": {},
   "outputs": [
    {
     "name": "stdout",
     "output_type": "stream",
     "text": [
      "Pick a number from 0,1 or 2: 1\n",
      "Correct!\n",
      "[' ', 'O', ' ']\n"
     ]
    }
   ],
   "source": [
    "# DECLARE A LIST\n",
    "my_list = [' ', ' ', 'O']\n",
    "\n",
    "# SHUFFLE THE LIST\n",
    "shuffled_list = shuffle_list(my_list)\n",
    "\n",
    "# TAKE THE GUESS FROM THE USER\n",
    "guess = user_guess()\n",
    "\n",
    "# MATCH THE GUESS\n",
    "match_guess(shuffled_list, guess)"
   ]
  },
  {
   "cell_type": "code",
   "execution_count": 52,
   "metadata": {},
   "outputs": [],
   "source": [
    "# DEFINE A FUNCTION THAT TAKES IN A STRING AND RETURNS THE STRING WITH THE LETTER IN THE EVEN AS UPPERCASE AND WITH THE LETTERS IN ODD AS LOWERCASE\n",
    "def myfunc(str):\n",
    "    c = 0\n",
    "    new_str = ''\n",
    "    for letter in str:\n",
    "        c += 1 \n",
    "        if(c%2 == 0):\n",
    "            new_str = new_str + letter.upper()\n",
    "        else:\n",
    "            new_str = new_str + letter.lower()\n",
    "    return new_str"
   ]
  },
  {
   "cell_type": "code",
   "execution_count": 53,
   "metadata": {},
   "outputs": [
    {
     "data": {
      "text/plain": [
       "'aRiTrA'"
      ]
     },
     "execution_count": 53,
     "metadata": {},
     "output_type": "execute_result"
    }
   ],
   "source": [
    "myfunc('Aritra')"
   ]
  },
  {
   "cell_type": "markdown",
   "metadata": {},
   "source": [
    "# Lambda, Map"
   ]
  },
  {
   "cell_type": "code",
   "execution_count": 1,
   "metadata": {},
   "outputs": [],
   "source": [
    "def square_num(num):\n",
    "    return num**2"
   ]
  },
  {
   "cell_type": "code",
   "execution_count": 10,
   "metadata": {},
   "outputs": [
    {
     "name": "stdout",
     "output_type": "stream",
     "text": [
      "1\n",
      "4\n",
      "9\n",
      "16\n"
     ]
    }
   ],
   "source": [
    "num = [1,2,3,4]\n",
    "#l1 = []\n",
    "#for i in num:\n",
    "#    l1.append(square_num(i))\n",
    "#print(num)\n",
    "#print(l1)\n",
    "\n",
    "##############OR###############\n",
    "for item in map(square_num, num):\n",
    "    print(item)"
   ]
  },
  {
   "cell_type": "code",
   "execution_count": null,
   "metadata": {},
   "outputs": [],
   "source": []
  }
 ],
 "metadata": {
  "kernelspec": {
   "display_name": "Python 3",
   "language": "python",
   "name": "python3"
  },
  "language_info": {
   "codemirror_mode": {
    "name": "ipython",
    "version": 3
   },
   "file_extension": ".py",
   "mimetype": "text/x-python",
   "name": "python",
   "nbconvert_exporter": "python",
   "pygments_lexer": "ipython3",
   "version": "3.8.3"
  }
 },
 "nbformat": 4,
 "nbformat_minor": 4
}
