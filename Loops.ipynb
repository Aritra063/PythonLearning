{
 "cells": [
  {
   "cell_type": "code",
   "execution_count": 1,
   "metadata": {},
   "outputs": [],
   "source": [
    "# Using FOR Loop to read the contents of a dictionary"
   ]
  },
  {
   "cell_type": "code",
   "execution_count": 2,
   "metadata": {},
   "outputs": [],
   "source": [
    "dict = {'k1':1, 'k2':2, 'k3':'Aritra', 'k4': 'Biswarup', 'k5':'Diwali'}"
   ]
  },
  {
   "cell_type": "code",
   "execution_count": 8,
   "metadata": {},
   "outputs": [
    {
     "name": "stdout",
     "output_type": "stream",
     "text": [
      "('k1', 1)\n",
      "('k2', 2)\n",
      "('k3', 'Aritra')\n",
      "('k4', 'Biswarup')\n",
      "('k5', 'Diwali')\n"
     ]
    }
   ],
   "source": [
    "# Printing both key and value\n",
    "for key_values in dict.items():\n",
    "    print(key_values)"
   ]
  },
  {
   "cell_type": "code",
   "execution_count": 13,
   "metadata": {},
   "outputs": [
    {
     "name": "stdout",
     "output_type": "stream",
     "text": [
      "1\n",
      "2\n",
      "Aritra\n",
      "Biswarup\n",
      "Diwali\n"
     ]
    }
   ],
   "source": [
    "# Using tuple unpacking to print just the values\n",
    "for (a,b) in dict.items():\n",
    "    print(b)"
   ]
  },
  {
   "cell_type": "markdown",
   "metadata": {},
   "source": [
    "# Enumerate Function"
   ]
  },
  {
   "cell_type": "code",
   "execution_count": 4,
   "metadata": {},
   "outputs": [
    {
     "name": "stdout",
     "output_type": "stream",
     "text": [
      "The letter in Index 0 is A\n",
      "The letter in Index 1 is R\n",
      "The letter in Index 2 is I\n",
      "The letter in Index 3 is T\n",
      "The letter in Index 4 is R\n",
      "The letter in Index 5 is A\n"
     ]
    }
   ],
   "source": [
    "name = 'Aritra'\n",
    "\n",
    "for index, letter in enumerate(name):\n",
    "    print(\"The letter in Index {} is {}\".format(index, letter.upper()))"
   ]
  },
  {
   "cell_type": "markdown",
   "metadata": {},
   "source": [
    "# Zip Function"
   ]
  },
  {
   "cell_type": "code",
   "execution_count": 5,
   "metadata": {},
   "outputs": [
    {
     "name": "stdout",
     "output_type": "stream",
     "text": [
      "(1, 'A')\n",
      "(2, 'B')\n",
      "(3, 'C')\n"
     ]
    }
   ],
   "source": [
    "# Zip function combines two list\n",
    "list_1 = [1, 2, 3]\n",
    "list_2 = ['A', 'B', 'C']\n",
    "for item in zip(list_1, list_2):\n",
    "    print(item)"
   ]
  }
 ],
 "metadata": {
  "kernelspec": {
   "display_name": "Python 3",
   "language": "python",
   "name": "python3"
  },
  "language_info": {
   "codemirror_mode": {
    "name": "ipython",
    "version": 3
   },
   "file_extension": ".py",
   "mimetype": "text/x-python",
   "name": "python",
   "nbconvert_exporter": "python",
   "pygments_lexer": "ipython3",
   "version": "3.8.3"
  }
 },
 "nbformat": 4,
 "nbformat_minor": 4
}
