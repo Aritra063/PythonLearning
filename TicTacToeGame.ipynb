{
 "cells": [
  {
   "cell_type": "markdown",
   "metadata": {},
   "source": [
    "___\n",
    "\n",
    "<a href='https://www.udemy.com/user/joseportilla/'><img src='../Pierian_Data_Logo.png'/></a>\n",
    "___\n",
    "<center><em>Content Copyright by Pierian Data</em></center>"
   ]
  },
  {
   "cell_type": "markdown",
   "metadata": {},
   "source": [
    "# Milestone Project 1\n",
    "## Congratulations on making it to your first milestone!\n",
    "You've already learned a ton and are ready to work on a real project.\n",
    "\n",
    "Your assignment: Create a Tic Tac Toe game. You are free to use any IDE you like.\n",
    "\n",
    "Here are the requirements:\n",
    "\n",
    "* 2 players should be able to play the game (both sitting at the same computer)\n",
    "* The board should be printed out every time a player makes a move\n",
    "* You should be able to accept input of the player position and then place a symbol on the board\n",
    "\n",
    "Feel free to use Google to help you figure anything out (but don't just Google \"Tic Tac Toe in Python\" otherwise you won't learn anything!) Keep in mind that this project can take anywhere between several hours to several days.\n",
    "\n",
    "There are 4 Jupyter Notebooks related to this assignment:\n",
    "\n",
    "* This Assignment Notebook\n",
    "* A \"Walkthrough Steps Workbook\" Notebook\n",
    "* A \"Complete Walkthrough Solution\" Notebook\n",
    "* An \"Advanced Solution\" Notebook\n",
    "\n",
    "I encourage you to just try to start the project on your own without referencing any of the notebooks. If you get stuck, check out the next lecture which is a text lecture with helpful hints and steps. If you're still stuck after that, then check out the Walkthrough Steps Workbook, which breaks up the project in steps for you to solve. Still stuck? Then check out the Complete Walkthrough Solution video for more help on approaching the project!"
   ]
  },
  {
   "cell_type": "markdown",
   "metadata": {},
   "source": [
    "There are parts of this that will be a struggle...and that is good! I have complete faith that if you have made it this far through the course you have all the tools and knowledge to tackle this project. Remember, it's totally open book, so take your time, do a little research, and remember:\n",
    "\n",
    "## HAVE FUN!"
   ]
  },
  {
   "cell_type": "code",
   "execution_count": 9,
   "metadata": {},
   "outputs": [],
   "source": [
    "row1 = [\" \",\" \",\" \"]\n",
    "row2 = [\" \",\" \",\" \"]\n",
    "row3 = [\" \",\" \",\" \"]"
   ]
  },
  {
   "cell_type": "code",
   "execution_count": 10,
   "metadata": {},
   "outputs": [],
   "source": [
    "# DISPLAY THE GAME BOARD TO THE USERS\n",
    "from IPython.display import clear_output\n",
    "def display_game_board(row1, row2, row3, player1=None, player2=None):\n",
    "    #board = row1 + row2 + row3\n",
    "    clear_output()\n",
    "    if(player1!=None and player2!=None):\n",
    "        print(f'\\nWELCOME {player1} and {player2}!\\n\\n')\n",
    "        print('\\nTic-Tact-Toe Initial Game Board')\n",
    "        print(row1[0]+'|'+row1[1]+'|'+row1[2])\n",
    "        #print('------')\n",
    "        print(row2[0]+'|'+row2[1]+'|'+row2[2])\n",
    "        #print('------')\n",
    "        print(row3[0]+'|'+row3[1]+'|'+row3[2])\n",
    "        #print(board+'|'+)\n",
    "    else:\n",
    "        print(row1[0]+'|'+row1[1]+'|'+row1[2])\n",
    "        #print('------')\n",
    "        print(row2[0]+'|'+row2[1]+'|'+row2[2])\n",
    "        #print('------')\n",
    "        print(row3[0]+'|'+row3[1]+'|'+row3[2])"
   ]
  },
  {
   "cell_type": "code",
   "execution_count": 11,
   "metadata": {},
   "outputs": [],
   "source": [
    "def user_row_choice():\n",
    "    row_choice_list = ['1', '2', '3']\n",
    "    #index_choice_list = ['0', '1', '2']\n",
    "    #playing_choice_list = ['X', 'O']\n",
    "    playing_choice = 'ABC'\n",
    "    row_choice = 'wrong'\n",
    "    #index_choice = 'wrong'\n",
    "    \n",
    "    while (row_choice not in row_choice_list or\n",
    "          (row1[0]!= \" \" and row1[1]!=\" \" and row1[2]!=\" \") or\n",
    "          (row2[0]!= \" \" and row2[1]!=\" \" and row2[2]!=\" \") or\n",
    "          (row3[0]!= \" \" and row3[1]!=\" \" and row3[2]!=\" \")):# or index_choice not in index_choice_list or playing_choice not in playing_choice_list):\n",
    "        row_choice = input('Enter the row in which you want to play (1,2,3)\\n')\n",
    "        if(row_choice == '1' and (row1[0]== \" \" or row1[1]==\" \" or row1[2]==\" \")):\n",
    "            #if(row1[0]!= \" \" and row1[1]!= \" \" and row1[2]!= \" \"):\n",
    "                #print(f'All the cells in that row is filled. Please select a different row')\n",
    "                #pass\n",
    "            return row1\n",
    "            #while(row1[0]!= \" \" and row1[1]!= \" \" and row1[2]!= \" \"):\n",
    "                #print(f'All the cells in that row is filled. Please select a different row excep {row_choice}')\n",
    "                #row_choice = input('Enter the row in which you want to start playing (2,3)')\n",
    "            #if(row_choice == '2'):\n",
    "                #return row2\n",
    "            #elif(row_choice == '3'):\n",
    "                #return row3\n",
    "        elif(row_choice == '2' and (row2[0]== \" \" or row2[1]==\" \" or row2[2]==\" \")):\n",
    "            return row2\n",
    "            #playing_choice = user_index_choice(row2)\n",
    "        elif(row_choice == '3' and (row3[0]== \" \" or row3[1]==\" \" or row3[2]==\" \")):\n",
    "            return row3\n",
    "            #playing_choice = user_index_choice(row3)\n",
    "        elif((row1[0]!= \" \" and row1[1]!=\" \" and row1[2]!=\" \") or\n",
    "             (row2[0]!= \" \" and row2[1]!=\" \" and row2[2]!=\" \") or\n",
    "             (row3[0]!= \" \" and row3[1]!=\" \" and row3[2]!=\" \")):\n",
    "            print('Sorry, that row is not available. Refer to the game board above to view the available rows with empty cell/cells.\\n')\n",
    "        else:\n",
    "            print('Sorry, invalid row choice. Please choose in the range (1,2,3).\\n')\n",
    "            \n",
    "    #while(row1[0]!= \" \" and row1[1]!= \" \" and row1[2]!= \" \"):\n",
    "        #row_choice = input(f'All the cells in that row is filled. Please select a different row excep {row_choice}')\n",
    "        #if(row_choice == '2'):\n",
    "            #return row2\n",
    "        #elif(row_choice == '3'):\n",
    "            #return row3"
   ]
  },
  {
   "cell_type": "code",
   "execution_count": 12,
   "metadata": {},
   "outputs": [],
   "source": [
    "def user_index_choice(row):\n",
    "    #print(row)\n",
    "    index_choice_list = [0, 1, 2]\n",
    "    index_choice = 'wrong'\n",
    "    #playing_choice = 'ABC'\n",
    "    while (index_choice not in index_choice_list or row[index_choice] != \" \"):\n",
    "        index_choice = int(input('Enter the index where you would like to play (0,1,2)\\n'))\n",
    "        #print(row[index_choice])\n",
    "        if(index_choice not in index_choice_list):\n",
    "            print('Sorry, invalid index choice. Please choose in the range (0,1,2).\\n')\n",
    "        elif(row[index_choice]!= \" \"):\n",
    "            print('Sorry, that cell is not available. Refer to the game board above to view the available cells.\\n')\n",
    "        else:\n",
    "            return index_choice\n",
    "    #return playing_choice"
   ]
  },
  {
   "cell_type": "code",
   "execution_count": 13,
   "metadata": {},
   "outputs": [],
   "source": [
    "#user_row_choice()\n",
    "def playing_marker_choice(ind,row):\n",
    "    playing_choice = 'wrong'\n",
    "    playing_choice_list = ['X', 'O']\n",
    "    while(playing_choice not in playing_choice_list):\n",
    "        playing_choice = input('Enter your playing choice (X or O)\\n')\n",
    "        playing_choice = playing_choice.upper()\n",
    "        if(playing_choice not in playing_choice_list):\n",
    "            print('Sorry, invalid playing choice. Please choose X or O\\n')\n",
    "        #elif(row[ind]!= \" \"):\n",
    "            #print('Sorry, that cell is already taken. Please choose another cell.')\n",
    "        else:\n",
    "            row[ind] = playing_choice\n",
    "    return playing_choice"
   ]
  },
  {
   "cell_type": "code",
   "execution_count": 14,
   "metadata": {},
   "outputs": [],
   "source": [
    "def start_game():\n",
    "    #print('WELCOME!\\n\\n')\n",
    "    player1 = input('\\nPlease provide the name for player1\\n')\n",
    "    player2 = input('\\nPlease provide the name for player2\\n')    \n",
    "    print(f'\\nWELCOME {player1} and {player2}!\\n\\n')\n",
    "    print('\\nTic-Tact-Toe Initial Game Board')\n",
    "    display_game_board(row1, row2, row3, player1, player2)\n",
    "    for i in range(1,10):\n",
    "        if(i%2!=0):\n",
    "            print(f'\\n{player1}, it is your turn.')\n",
    "        else:\n",
    "            print(f'\\n{player2}, it is your turn.')\n",
    "        \n",
    "        row_list = user_row_choice()\n",
    "        ind = user_index_choice(row_list)\n",
    "                \n",
    "        marker = playing_marker_choice(ind,row_list)\n",
    "    \n",
    "    #print(f'Marker for Player1--> {marker}\\n')\n",
    "    #print(f'Marker for Player2--> {marker_list[1]}\\n')\n",
    "    \n",
    "        if(i==1):\n",
    "            #print(f'\\nMarker for Player1--> {marker}')\n",
    "            if(marker=='X'):\n",
    "                marker_list = ['X', 'O']\n",
    "            elif(marker=='O'):\n",
    "                marker_list = ['O', 'X']\n",
    "            \n",
    "        print(f'Marker for {player1}--> {marker_list[0]}\\n')\n",
    "        print(f'Marker for {player2}--> {marker_list[1]}\\n')\n",
    "        #print(f'\\nMarker for Player2--> {marker_list[1]}\\n')\n",
    "        \n",
    "    #while(row_list[0]!= \" \" and row_list[1]!= \" \" and row_list[2]!= \" \"):\n",
    "        #print(f'All the cells in that row is filled. Please select a different row')\n",
    "        #row_list = user_row_choice()\n",
    "        #if(row_list[0]== \" \" or row_list[1]== \" \" or row_list[2]== \" \"):\n",
    "            #break\n",
    "    \n",
    "    #while(row_list[ind]!= \" \"):\n",
    "        #print(f'All the cells in that row is filled. Please select a different cell except cell{ind}.')\n",
    "        #ind = user_index_choice(row_list)\n",
    "        #if(row_list[ind] == \" \"):\n",
    "            #break\n",
    "    \n",
    "        \n",
    "        while(i%2==0 and marker != marker_list[1]):\n",
    "            print(f'Invalid marker for {player2}. Please use ({marker_list[1]})\\n')\n",
    "            marker = playing_marker_choice(ind,row_list)\n",
    "            if(marker==marker_list[1]):\n",
    "                break\n",
    "            \n",
    "        while(i%2!=0 and marker != marker_list[0]):\n",
    "            print(f'Invalid marker for {player1}. Please use ({marker_list[0]})\\n')\n",
    "            marker = playing_marker_choice(ind,row_list)\n",
    "            if(marker==marker_list[1]):\n",
    "                break\n",
    "     \n",
    "    #print('Current Game Board\\n')\n",
    "        display_game_board(row1, row2, row3)\n",
    "    \n",
    "        if((row1[0]==row1[1]==row1[2]=='X' or row1[0]==row1[1]==row1[2]=='O') or \n",
    "           (row1[0]==row2[1]==row3[2]=='X' or row1[0]==row2[1]==row3[2]=='O') or \n",
    "           (row1[0]==row2[0]==row3[0]=='X' or row1[0]==row2[0]==row3[0]=='O') or \n",
    "           (row2[0]==row2[1]==row2[2]=='X' or row2[0]==row2[1]==row2[2]=='O') or\n",
    "           (row3[0]==row3[1]==row3[2]=='X' or row3[0]==row3[1]==row3[2]=='O') or \n",
    "           (row1[2]==row2[2]==row3[2]=='X' or row1[2]==row2[2]==row3[2]=='O')):\n",
    "            if(i%2==0):\n",
    "                print(f\"\\nYay! {player2} is the winner.\")\n",
    "            else:\n",
    "                print(f\"\\nYay! {player1} is the winner.\")\n",
    "            break\n",
    "            \n",
    "        if(row1[0]!= \" \" and row1[1]!= \" \" and row1[2]!= \" \" and\n",
    "           row2[0]!= \" \" and row2[1]!= \" \" and row2[2]!= \" \" and\n",
    "           row3[0]!= \" \" and row3[1]!= \" \" and row3[2]!= \" \"):\n",
    "            print(\"\\nOops! This game resulted in a draw.\\n\\n\")\n",
    "        \n",
    "            new_game = \"wrong\"\n",
    "            while(new_game not in ['Y','N']):\n",
    "                new_game = input(\"\\nWould you like to start a new game (Y/N)?\\n\")\n",
    "                new_game = new_game.upper()\n",
    "                if(new_game == 'Y'):\n",
    "                    start_game()\n",
    "                elif(new_game == 'N'):\n",
    "                    break\n",
    "                else:\n",
    "                    print(\"That is not a valid choice. Please choose (Y/N).\")\n",
    "        \n",
    "        \n",
    "    "
   ]
  },
  {
   "cell_type": "code",
   "execution_count": 15,
   "metadata": {},
   "outputs": [],
   "source": [
    "#start_game()"
   ]
  },
  {
   "cell_type": "code",
   "execution_count": null,
   "metadata": {},
   "outputs": [],
   "source": []
  },
  {
   "cell_type": "code",
   "execution_count": null,
   "metadata": {},
   "outputs": [],
   "source": []
  },
  {
   "cell_type": "code",
   "execution_count": null,
   "metadata": {},
   "outputs": [],
   "source": []
  },
  {
   "cell_type": "code",
   "execution_count": null,
   "metadata": {},
   "outputs": [],
   "source": []
  },
  {
   "cell_type": "code",
   "execution_count": null,
   "metadata": {},
   "outputs": [],
   "source": []
  },
  {
   "cell_type": "code",
   "execution_count": null,
   "metadata": {},
   "outputs": [],
   "source": []
  },
  {
   "cell_type": "code",
   "execution_count": null,
   "metadata": {},
   "outputs": [],
   "source": []
  },
  {
   "cell_type": "code",
   "execution_count": null,
   "metadata": {},
   "outputs": [],
   "source": []
  },
  {
   "cell_type": "code",
   "execution_count": null,
   "metadata": {},
   "outputs": [],
   "source": []
  },
  {
   "cell_type": "code",
   "execution_count": 16,
   "metadata": {},
   "outputs": [
    {
     "name": "stdout",
     "output_type": "stream",
     "text": [
      "X|O|X\n",
      "O|O|X\n",
      "X|X|O\n",
      "\n",
      "Oops! This game resulted in a draw.\n",
      "\n",
      "\n",
      "\n",
      "Would you like to start a new game (Y/N)?\n",
      "n\n"
     ]
    }
   ],
   "source": [
    "start_game()"
   ]
  }
 ],
 "metadata": {
  "kernelspec": {
   "display_name": "Python 3",
   "language": "python",
   "name": "python3"
  },
  "language_info": {
   "codemirror_mode": {
    "name": "ipython",
    "version": 3
   },
   "file_extension": ".py",
   "mimetype": "text/x-python",
   "name": "python",
   "nbconvert_exporter": "python",
   "pygments_lexer": "ipython3",
   "version": "3.8.3"
  }
 },
 "nbformat": 4,
 "nbformat_minor": 1
}
